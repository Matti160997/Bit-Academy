{
 "cells": [
  {
   "cell_type": "markdown",
   "id": "7e36674a-af68-45b4-a9b2-633d3c20f044",
   "metadata": {},
   "source": [
    "# Heeft iedereen gestemd?\n",
    "\n",
    "We controleren of iedereen heeft gestemd! Als het goed is, dan zijn er 51 staten in totaal. Dit zijn de 50 staten van de Verenigde Staten plus Washington D.C, wat in deze database als een staat wordt beschouwd"
   ]
  },
  {
   "cell_type": "code",
   "execution_count": 7,
   "id": "65ae1737-a3f0-4487-9c6f-45ed87981b70",
   "metadata": {},
   "outputs": [],
   "source": [
    "import csv"
   ]
  },
  {
   "cell_type": "markdown",
   "id": "235d4031-54fd-44ec-bd52-2b7fb35b1a23",
   "metadata": {},
   "source": [
    "Vervolgens voeren we de code uit om het CSV-bestand te laden en op te slaan in de vairable <span style=\"background-color: lightgrey;\">data</span>, opdat we die kunnen gebruiken voor de volgende exercises:"
   ]
  },
  {
   "cell_type": "code",
   "execution_count": 8,
   "id": "aff55779-e04f-4d8f-844d-11f5f5c9b80f",
   "metadata": {},
   "outputs": [
    {
     "name": "stdout",
     "output_type": "stream",
     "text": [
      "Het CSV-bestand bevat 51 unieke staten.\n"
     ]
    }
   ],
   "source": [
    "csv_bestand = 'president_county_candidate.csv'\n",
    "\n",
    "unieke_staten = set()\n",
    "\n",
    "with open(csv_bestand, newline='') as csvfile:\n",
    "    lezer = csv.reader(csvfile)\n",
    "    next(lezer)  # sla de headerrij over\n",
    "    for rij in lezer:\n",
    "        if rij[0] not in unieke_staten:\n",
    "            unieke_staten.add(rij[0])\n",
    "\n",
    "aantal_unieke_staten = len(unieke_staten)\n",
    "\n",
    "print(f\"Het CSV-bestand bevat {aantal_unieke_staten} unieke staten.\")\n"
   ]
  },
  {
   "cell_type": "code",
   "execution_count": null,
   "id": "df921d67-f8dd-4a27-b217-e7048a6d19bf",
   "metadata": {},
   "outputs": [],
   "source": []
  }
 ],
 "metadata": {
  "kernelspec": {
   "display_name": "Python 3 (ipykernel)",
   "language": "python",
   "name": "python3"
  },
  "language_info": {
   "codemirror_mode": {
    "name": "ipython",
    "version": 3
   },
   "file_extension": ".py",
   "mimetype": "text/x-python",
   "name": "python",
   "nbconvert_exporter": "python",
   "pygments_lexer": "ipython3",
   "version": "3.12.2"
  }
 },
 "nbformat": 4,
 "nbformat_minor": 5
}
